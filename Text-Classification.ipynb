{
 "cells": [
  {
   "cell_type": "raw",
   "source": [
    "Collect train and test files path into two lists"
   ],
   "metadata": {
    "collapsed": false
   }
  },
  {
   "cell_type": "code",
   "execution_count": 1,
   "outputs": [],
   "source": [
    "from os import listdir\n",
    "import numpy as np\n",
    "import pandas as pd"
   ],
   "metadata": {
    "collapsed": false,
    "ExecuteTime": {
     "end_time": "2023-12-11T14:54:49.253991200Z",
     "start_time": "2023-12-11T14:54:45.516854200Z"
    }
   }
  },
  {
   "cell_type": "code",
   "execution_count": 2,
   "outputs": [],
   "source": [
    "my_path = 'Dataset/Classification-Train And Test/'\n",
    "train_path = my_path + 'Train/'\n",
    "test_path  = my_path + 'Test/'"
   ],
   "metadata": {
    "collapsed": false,
    "ExecuteTime": {
     "end_time": "2023-12-11T14:54:49.271990500Z",
     "start_time": "2023-12-11T14:54:49.261998200Z"
    }
   }
  },
  {
   "cell_type": "raw",
   "source": [
    "define a function to return list of files path in given directory path"
   ],
   "metadata": {
    "collapsed": false
   }
  },
  {
   "cell_type": "code",
   "execution_count": 3,
   "outputs": [],
   "source": [
    "def get_files_list(directory_path):\n",
    "    rows = pd.DataFrame(columns=['path', 'class'])\n",
    "    for class_path_name in listdir(directory_path):\n",
    "        for data_file in listdir(directory_path + class_path_name):\n",
    "            single_row = pd.DataFrame ({\n",
    "                'path' : [directory_path + class_path_name + '/' + data_file],\n",
    "                'class' : [class_path_name]\n",
    "            })\n",
    "            rows = pd.concat([rows, single_row], ignore_index=True)\n",
    "    return rows"
   ],
   "metadata": {
    "collapsed": false,
    "ExecuteTime": {
     "end_time": "2023-12-11T14:54:49.322992700Z",
     "start_time": "2023-12-11T14:54:49.277989900Z"
    }
   }
  },
  {
   "cell_type": "code",
   "execution_count": 4,
   "outputs": [],
   "source": [
    "doc_train = get_files_list(train_path)\n",
    "doc_test  = get_files_list(test_path)"
   ],
   "metadata": {
    "collapsed": false,
    "ExecuteTime": {
     "end_time": "2023-12-11T14:54:49.424790300Z",
     "start_time": "2023-12-11T14:54:49.312988300Z"
    }
   }
  },
  {
   "cell_type": "code",
   "execution_count": 61,
   "outputs": [
    {
     "data": {
      "text/plain": "                                                 path                   class\n0   Dataset/Classification-Train And Test/Test/Com...           Comp.graphics\n1   Dataset/Classification-Train And Test/Test/Com...           Comp.graphics\n2   Dataset/Classification-Train And Test/Test/rec...               rec.autos\n3   Dataset/Classification-Train And Test/Test/rec...               rec.autos\n4   Dataset/Classification-Train And Test/Test/rec...               rec.autos\n5   Dataset/Classification-Train And Test/Test/sci...         sci.electronics\n6   Dataset/Classification-Train And Test/Test/sci...         sci.electronics\n7   Dataset/Classification-Train And Test/Test/sci...         sci.electronics\n8   Dataset/Classification-Train And Test/Test/soc...  soc.religion.christian\n9   Dataset/Classification-Train And Test/Test/soc...  soc.religion.christian\n10  Dataset/Classification-Train And Test/Test/soc...  soc.religion.christian\n11  Dataset/Classification-Train And Test/Test/soc...  soc.religion.christian\n12  Dataset/Classification-Train And Test/Test/tal...   talk.politics.mideast\n13  Dataset/Classification-Train And Test/Test/tal...   talk.politics.mideast\n14  Dataset/Classification-Train And Test/Test/tal...   talk.politics.mideast\n15  Dataset/Classification-Train And Test/Test/tal...   talk.politics.mideast\n16  Dataset/Classification-Train And Test/Test/tal...   talk.politics.mideast",
      "text/html": "<div>\n<style scoped>\n    .dataframe tbody tr th:only-of-type {\n        vertical-align: middle;\n    }\n\n    .dataframe tbody tr th {\n        vertical-align: top;\n    }\n\n    .dataframe thead th {\n        text-align: right;\n    }\n</style>\n<table border=\"1\" class=\"dataframe\">\n  <thead>\n    <tr style=\"text-align: right;\">\n      <th></th>\n      <th>path</th>\n      <th>class</th>\n    </tr>\n  </thead>\n  <tbody>\n    <tr>\n      <th>0</th>\n      <td>Dataset/Classification-Train And Test/Test/Com...</td>\n      <td>Comp.graphics</td>\n    </tr>\n    <tr>\n      <th>1</th>\n      <td>Dataset/Classification-Train And Test/Test/Com...</td>\n      <td>Comp.graphics</td>\n    </tr>\n    <tr>\n      <th>2</th>\n      <td>Dataset/Classification-Train And Test/Test/rec...</td>\n      <td>rec.autos</td>\n    </tr>\n    <tr>\n      <th>3</th>\n      <td>Dataset/Classification-Train And Test/Test/rec...</td>\n      <td>rec.autos</td>\n    </tr>\n    <tr>\n      <th>4</th>\n      <td>Dataset/Classification-Train And Test/Test/rec...</td>\n      <td>rec.autos</td>\n    </tr>\n    <tr>\n      <th>5</th>\n      <td>Dataset/Classification-Train And Test/Test/sci...</td>\n      <td>sci.electronics</td>\n    </tr>\n    <tr>\n      <th>6</th>\n      <td>Dataset/Classification-Train And Test/Test/sci...</td>\n      <td>sci.electronics</td>\n    </tr>\n    <tr>\n      <th>7</th>\n      <td>Dataset/Classification-Train And Test/Test/sci...</td>\n      <td>sci.electronics</td>\n    </tr>\n    <tr>\n      <th>8</th>\n      <td>Dataset/Classification-Train And Test/Test/soc...</td>\n      <td>soc.religion.christian</td>\n    </tr>\n    <tr>\n      <th>9</th>\n      <td>Dataset/Classification-Train And Test/Test/soc...</td>\n      <td>soc.religion.christian</td>\n    </tr>\n    <tr>\n      <th>10</th>\n      <td>Dataset/Classification-Train And Test/Test/soc...</td>\n      <td>soc.religion.christian</td>\n    </tr>\n    <tr>\n      <th>11</th>\n      <td>Dataset/Classification-Train And Test/Test/soc...</td>\n      <td>soc.religion.christian</td>\n    </tr>\n    <tr>\n      <th>12</th>\n      <td>Dataset/Classification-Train And Test/Test/tal...</td>\n      <td>talk.politics.mideast</td>\n    </tr>\n    <tr>\n      <th>13</th>\n      <td>Dataset/Classification-Train And Test/Test/tal...</td>\n      <td>talk.politics.mideast</td>\n    </tr>\n    <tr>\n      <th>14</th>\n      <td>Dataset/Classification-Train And Test/Test/tal...</td>\n      <td>talk.politics.mideast</td>\n    </tr>\n    <tr>\n      <th>15</th>\n      <td>Dataset/Classification-Train And Test/Test/tal...</td>\n      <td>talk.politics.mideast</td>\n    </tr>\n    <tr>\n      <th>16</th>\n      <td>Dataset/Classification-Train And Test/Test/tal...</td>\n      <td>talk.politics.mideast</td>\n    </tr>\n  </tbody>\n</table>\n</div>"
     },
     "execution_count": 61,
     "metadata": {},
     "output_type": "execute_result"
    }
   ],
   "source": [
    "doc_test"
   ],
   "metadata": {
    "collapsed": false,
    "ExecuteTime": {
     "end_time": "2023-12-11T15:50:03.283629100Z",
     "start_time": "2023-12-11T15:50:03.193641200Z"
    }
   }
  },
  {
   "cell_type": "code",
   "execution_count": 22,
   "outputs": [
    {
     "data": {
      "text/plain": "                                                 path                   class\n0   Dataset/Classification-Train And Test/Test/Com...           Comp.graphics\n1   Dataset/Classification-Train And Test/Test/Com...           Comp.graphics\n2   Dataset/Classification-Train And Test/Test/rec...               rec.autos\n3   Dataset/Classification-Train And Test/Test/rec...               rec.autos\n4   Dataset/Classification-Train And Test/Test/rec...               rec.autos\n5   Dataset/Classification-Train And Test/Test/sci...         sci.electronics\n6   Dataset/Classification-Train And Test/Test/sci...         sci.electronics\n7   Dataset/Classification-Train And Test/Test/sci...         sci.electronics\n8   Dataset/Classification-Train And Test/Test/soc...  soc.religion.christian\n9   Dataset/Classification-Train And Test/Test/soc...  soc.religion.christian\n10  Dataset/Classification-Train And Test/Test/soc...  soc.religion.christian\n11  Dataset/Classification-Train And Test/Test/soc...  soc.religion.christian\n12  Dataset/Classification-Train And Test/Test/tal...   talk.politics.mideast\n13  Dataset/Classification-Train And Test/Test/tal...   talk.politics.mideast\n14  Dataset/Classification-Train And Test/Test/tal...   talk.politics.mideast\n15  Dataset/Classification-Train And Test/Test/tal...   talk.politics.mideast\n16  Dataset/Classification-Train And Test/Test/tal...   talk.politics.mideast",
      "text/html": "<div>\n<style scoped>\n    .dataframe tbody tr th:only-of-type {\n        vertical-align: middle;\n    }\n\n    .dataframe tbody tr th {\n        vertical-align: top;\n    }\n\n    .dataframe thead th {\n        text-align: right;\n    }\n</style>\n<table border=\"1\" class=\"dataframe\">\n  <thead>\n    <tr style=\"text-align: right;\">\n      <th></th>\n      <th>path</th>\n      <th>class</th>\n    </tr>\n  </thead>\n  <tbody>\n    <tr>\n      <th>0</th>\n      <td>Dataset/Classification-Train And Test/Test/Com...</td>\n      <td>Comp.graphics</td>\n    </tr>\n    <tr>\n      <th>1</th>\n      <td>Dataset/Classification-Train And Test/Test/Com...</td>\n      <td>Comp.graphics</td>\n    </tr>\n    <tr>\n      <th>2</th>\n      <td>Dataset/Classification-Train And Test/Test/rec...</td>\n      <td>rec.autos</td>\n    </tr>\n    <tr>\n      <th>3</th>\n      <td>Dataset/Classification-Train And Test/Test/rec...</td>\n      <td>rec.autos</td>\n    </tr>\n    <tr>\n      <th>4</th>\n      <td>Dataset/Classification-Train And Test/Test/rec...</td>\n      <td>rec.autos</td>\n    </tr>\n    <tr>\n      <th>5</th>\n      <td>Dataset/Classification-Train And Test/Test/sci...</td>\n      <td>sci.electronics</td>\n    </tr>\n    <tr>\n      <th>6</th>\n      <td>Dataset/Classification-Train And Test/Test/sci...</td>\n      <td>sci.electronics</td>\n    </tr>\n    <tr>\n      <th>7</th>\n      <td>Dataset/Classification-Train And Test/Test/sci...</td>\n      <td>sci.electronics</td>\n    </tr>\n    <tr>\n      <th>8</th>\n      <td>Dataset/Classification-Train And Test/Test/soc...</td>\n      <td>soc.religion.christian</td>\n    </tr>\n    <tr>\n      <th>9</th>\n      <td>Dataset/Classification-Train And Test/Test/soc...</td>\n      <td>soc.religion.christian</td>\n    </tr>\n    <tr>\n      <th>10</th>\n      <td>Dataset/Classification-Train And Test/Test/soc...</td>\n      <td>soc.religion.christian</td>\n    </tr>\n    <tr>\n      <th>11</th>\n      <td>Dataset/Classification-Train And Test/Test/soc...</td>\n      <td>soc.religion.christian</td>\n    </tr>\n    <tr>\n      <th>12</th>\n      <td>Dataset/Classification-Train And Test/Test/tal...</td>\n      <td>talk.politics.mideast</td>\n    </tr>\n    <tr>\n      <th>13</th>\n      <td>Dataset/Classification-Train And Test/Test/tal...</td>\n      <td>talk.politics.mideast</td>\n    </tr>\n    <tr>\n      <th>14</th>\n      <td>Dataset/Classification-Train And Test/Test/tal...</td>\n      <td>talk.politics.mideast</td>\n    </tr>\n    <tr>\n      <th>15</th>\n      <td>Dataset/Classification-Train And Test/Test/tal...</td>\n      <td>talk.politics.mideast</td>\n    </tr>\n    <tr>\n      <th>16</th>\n      <td>Dataset/Classification-Train And Test/Test/tal...</td>\n      <td>talk.politics.mideast</td>\n    </tr>\n  </tbody>\n</table>\n</div>"
     },
     "execution_count": 22,
     "metadata": {},
     "output_type": "execute_result"
    }
   ],
   "source": [
    "doc_test"
   ],
   "metadata": {
    "collapsed": false,
    "ExecuteTime": {
     "end_time": "2023-12-11T15:21:06.098604200Z",
     "start_time": "2023-12-11T15:21:06.050018300Z"
    }
   }
  },
  {
   "cell_type": "raw",
   "source": [
    "function to convert a sentence into list of words"
   ],
   "metadata": {
    "collapsed": false
   }
  },
  {
   "cell_type": "code",
   "execution_count": 7,
   "outputs": [],
   "source": [
    "def tokenize_sentence(line):\n",
    "    return line.strip().split(\" \")"
   ],
   "metadata": {
    "collapsed": false,
    "ExecuteTime": {
     "end_time": "2023-12-11T14:54:49.623805100Z",
     "start_time": "2023-12-11T14:54:49.513802700Z"
    }
   }
  },
  {
   "cell_type": "raw",
   "source": [
    "function to convert a document into list of words"
   ],
   "metadata": {
    "collapsed": false
   }
  },
  {
   "cell_type": "code",
   "execution_count": 8,
   "outputs": [],
   "source": [
    "def tokenize(document_path):\n",
    "    f = open(document_path, 'r')\n",
    "    text_lines_in_given_document = f.readlines()\n",
    "\n",
    "    words_in_given_document = []\n",
    "\n",
    "    #traverse over all the lines and tokenize each one with the help of helper function: tokenize_sentence\n",
    "    for line in text_lines_in_given_document:\n",
    "        words_in_given_document.append(tokenize_sentence(line))\n",
    "\n",
    "    return words_in_given_document"
   ],
   "metadata": {
    "collapsed": false,
    "ExecuteTime": {
     "end_time": "2023-12-11T14:54:49.751833Z",
     "start_time": "2023-12-11T14:54:49.544806900Z"
    }
   }
  },
  {
   "cell_type": "code",
   "execution_count": 9,
   "outputs": [],
   "source": [
    "#a simple helper function to convert a 2D array to 1D, without using numpy\n",
    "def flatten(list):\n",
    "    new_list = []\n",
    "    for i in list:\n",
    "        for j in i:\n",
    "            new_list.append(j)\n",
    "    return new_list"
   ],
   "metadata": {
    "collapsed": false,
    "ExecuteTime": {
     "end_time": "2023-12-11T14:54:49.855822Z",
     "start_time": "2023-12-11T14:54:49.573808800Z"
    }
   }
  },
  {
   "cell_type": "code",
   "execution_count": 10,
   "outputs": [],
   "source": [
    "list_of_words_in_all_project_train_data_in_a_nested_structure = []\n",
    "list_of_words_in_all_project_test_data_in_a_nested_structure = []\n",
    "\n",
    "for document, row in doc_train.iterrows():\n",
    "    list_of_words_in_all_project_train_data_in_a_nested_structure.append(\n",
    "        flatten(\n",
    "            tokenize(row['path'])\n",
    "        )\n",
    "    )\n",
    "\n",
    "\n",
    "for document, row in doc_test.iterrows():\n",
    "    list_of_words_in_all_project_test_data_in_a_nested_structure.append(\n",
    "        flatten(\n",
    "            tokenize(row['path'])\n",
    "        )\n",
    "    )"
   ],
   "metadata": {
    "collapsed": false,
    "ExecuteTime": {
     "end_time": "2023-12-11T14:54:49.992835100Z",
     "start_time": "2023-12-11T14:54:49.611809Z"
    }
   }
  },
  {
   "cell_type": "code",
   "execution_count": 53,
   "outputs": [],
   "source": [
    "list_of_words_in_all_project_train_data_in_1D_list = flatten(\n",
    "    list_of_words_in_all_project_train_data_in_a_nested_structure\n",
    ")\n",
    "\n",
    "np_list_of_words = np.asarray(\n",
    "    list_of_words_in_all_project_train_data_in_1D_list\n",
    ")\n",
    "\n",
    "df = pd.DataFrame({\"Word\": np_list_of_words})\n",
    "train_bag_of_words = df['Word'].value_counts().reset_index()\n",
    "\n",
    "# Rename columns for clarity\n",
    "train_bag_of_words.columns = ['Word', 'Count']\n",
    "\n",
    "train_dictionary = {}\n",
    "document_number = 1\n",
    "for words_in_a_document in list_of_words_in_all_project_train_data_in_a_nested_structure:\n",
    "    #print(doc_words)\n",
    "    np_doc_words = np.asarray(words_in_a_document) #words in one document in a ndarray\n",
    "    unique_words_in_one_document, counts_of_unique_words_in_one_document = np.unique(np_doc_words, return_counts=True)\n",
    "    train_dictionary[document_number] = {}\n",
    "    for i in range(len(unique_words_in_one_document)):\n",
    "        train_dictionary[document_number][unique_words_in_one_document[i]] = counts_of_unique_words_in_one_document[i]\n",
    "    document_number = document_number + 1\n",
    "\n",
    "train_features = train_bag_of_words\n",
    "\n",
    "\n",
    "#now we make a 2D array having the frequency of each word of our feature set in each individual documents\n",
    "\n",
    "X_train = []\n",
    "\n",
    "for document_num in train_dictionary.keys():\n",
    "    row = []\n",
    "    for index, feature_word in train_features.iterrows():\n",
    "        if feature_word['Word'] in train_dictionary[document_num].keys():\n",
    "            #if word is present in the dictionary of the document as a key, its value is copied\n",
    "            #this gives us no. of occurences\n",
    "            row.append(train_dictionary[document_num][feature_word['Word']])\n",
    "        else:\n",
    "            #if not present, the no. of occurences is zero\n",
    "            row.append(0)\n",
    "    X_train.append(row)\n",
    "\n",
    "\n",
    "\n",
    "X_train = np.asarray(X_train)\n",
    "Y_train = np.asarray(doc_train['class'])"
   ],
   "metadata": {
    "collapsed": false,
    "ExecuteTime": {
     "end_time": "2023-12-11T15:41:16.284301400Z",
     "start_time": "2023-12-11T15:39:03.410205200Z"
    }
   }
  },
  {
   "cell_type": "code",
   "execution_count": 60,
   "outputs": [
    {
     "data": {
      "text/plain": "array([[ 27,  14,   5, ...,   0,   0,   0],\n       [ 45,  21,  18, ...,   0,   0,   0],\n       [ 40,  14,  13, ...,   0,   0,   0],\n       ...,\n       [ 64,  31,  25, ...,   0,   0,   0],\n       [272, 146,  71, ...,   0,   0,   0],\n       [135,  71,  49, ...,   0,   0,   1]], dtype=int64)"
     },
     "execution_count": 60,
     "metadata": {},
     "output_type": "execute_result"
    }
   ],
   "source": [
    "X_train"
   ],
   "metadata": {
    "collapsed": false,
    "ExecuteTime": {
     "end_time": "2023-12-11T15:49:32.893098800Z",
     "start_time": "2023-12-11T15:49:32.829886800Z"
    }
   }
  },
  {
   "cell_type": "code",
   "execution_count": 58,
   "outputs": [],
   "source": [
    "test_dictionary = {}\n",
    "document_number = 1\n",
    "for words_in_a_document in list_of_words_in_all_project_test_data_in_a_nested_structure:\n",
    "    #print(doc_words)\n",
    "    np_doc_words = np.asarray(words_in_a_document) #words in one document in a ndarray\n",
    "    unique_words_in_one_document, counts_of_unique_words_in_one_document = np.unique(np_doc_words, return_counts=True)\n",
    "    test_dictionary[document_number] = {}\n",
    "    for i in range(len(unique_words_in_one_document)):\n",
    "        test_dictionary[document_number][unique_words_in_one_document[i]] = counts_of_unique_words_in_one_document[i]\n",
    "    document_number = document_number + 1\n",
    "\n",
    "# train_features = train_bag_of_words\n",
    "\n",
    "\n",
    "#now we make a 2D array having the frequency of each word of our feature set in each individual documents\n",
    "\n",
    "X_test = []\n",
    "\n",
    "for document_num in test_dictionary.keys():\n",
    "    row = []\n",
    "    for index, feature_word in train_features.iterrows():\n",
    "        if feature_word['Word'] in test_dictionary[document_num].keys():\n",
    "            #if word is present in the dictionary of the document as a key, its value is copied\n",
    "            #this gives us no. of occurences\n",
    "            row.append(test_dictionary[document_num][feature_word['Word']])\n",
    "        else:\n",
    "            #if not present, the no. of occurences is zero\n",
    "            row.append(0)\n",
    "    X_test.append(row)\n",
    "\n",
    "\n",
    "\n",
    "X_test = np.asarray(X_test)\n",
    "Y_test = np.asarray(doc_test['class'])"
   ],
   "metadata": {
    "collapsed": false
   }
  },
  {
   "cell_type": "code",
   "execution_count": 59,
   "outputs": [
    {
     "data": {
      "text/plain": "array([[  8,   6,  12, ...,   0,   0,   0],\n       [ 22,   7,   7, ...,   0,   0,   0],\n       [ 24,   7,   2, ...,   0,   0,   0],\n       ...,\n       [119,  71,  43, ...,   0,   0,   0],\n       [ 50,  35,  20, ...,   0,   0,   1],\n       [ 69,  31,  15, ...,   0,   0,   0]], dtype=int64)"
     },
     "execution_count": 59,
     "metadata": {},
     "output_type": "execute_result"
    }
   ],
   "source": [
    "X_test"
   ],
   "metadata": {
    "collapsed": false,
    "ExecuteTime": {
     "end_time": "2023-12-11T15:49:05.460508200Z",
     "start_time": "2023-12-11T15:49:05.361028900Z"
    }
   }
  },
  {
   "cell_type": "code",
   "execution_count": 62,
   "outputs": [
    {
     "data": {
      "text/plain": "array([[ 27,  14,   5, ...,   0,   0,   0],\n       [ 45,  21,  18, ...,   0,   0,   0],\n       [ 40,  14,  13, ...,   0,   0,   0],\n       ...,\n       [ 64,  31,  25, ...,   0,   0,   0],\n       [272, 146,  71, ...,   0,   0,   0],\n       [135,  71,  49, ...,   0,   0,   1]], dtype=int64)"
     },
     "metadata": {},
     "output_type": "display_data"
    }
   ],
   "source": [
    "from sklearn.naive_bayes import MultinomialNB\n",
    "clf = MultinomialNB()\n",
    "clf.fit(X_train, Y_train)\n",
    "display(X_train)"
   ],
   "metadata": {
    "collapsed": false,
    "ExecuteTime": {
     "end_time": "2023-12-11T15:50:53.077329200Z",
     "start_time": "2023-12-11T15:50:50.696996500Z"
    }
   }
  },
  {
   "cell_type": "code",
   "execution_count": 63,
   "outputs": [],
   "source": [
    "Y_predict = clf.predict(X_test)\n"
   ],
   "metadata": {
    "collapsed": false,
    "ExecuteTime": {
     "end_time": "2023-12-11T15:51:16.368554400Z",
     "start_time": "2023-12-11T15:51:16.212538800Z"
    }
   }
  },
  {
   "cell_type": "code",
   "execution_count": 64,
   "outputs": [
    {
     "data": {
      "text/plain": "0.9411764705882353"
     },
     "execution_count": 64,
     "metadata": {},
     "output_type": "execute_result"
    }
   ],
   "source": [
    "clf.score(X_test, Y_test)\n"
   ],
   "metadata": {
    "collapsed": false,
    "ExecuteTime": {
     "end_time": "2023-12-11T15:51:22.113389500Z",
     "start_time": "2023-12-11T15:51:22.005383500Z"
    }
   }
  },
  {
   "cell_type": "code",
   "execution_count": 87,
   "outputs": [
    {
     "name": "stdout",
     "output_type": "stream",
     "text": [
      "                        precision    recall  f1-score   support\n",
      "\n",
      "         Comp.graphics       1.00      0.50      0.67         2\n",
      "             rec.autos       1.00      1.00      1.00         3\n",
      "       sci.electronics       1.00      1.00      1.00         3\n",
      "soc.religion.christian       1.00      1.00      1.00         4\n",
      " talk.politics.mideast       0.83      1.00      0.91         5\n",
      "\n",
      "              accuracy                           0.94        17\n",
      "             macro avg       0.97      0.90      0.92        17\n",
      "          weighted avg       0.95      0.94      0.93        17\n",
      "\n"
     ]
    }
   ],
   "source": [
    "from sklearn.metrics import classification_report, confusion_matrix, accuracy_score\n",
    "print(classification_report(Y_test, Y_predict))"
   ],
   "metadata": {
    "collapsed": false,
    "ExecuteTime": {
     "end_time": "2023-12-11T16:08:44.981294400Z",
     "start_time": "2023-12-11T16:08:44.892252100Z"
    }
   }
  },
  {
   "cell_type": "code",
   "execution_count": null,
   "outputs": [],
   "source": [],
   "metadata": {
    "collapsed": false
   }
  }
 ],
 "metadata": {
  "kernelspec": {
   "display_name": "Python 3 (ipykernel)",
   "language": "python",
   "name": "python3"
  },
  "language_info": {
   "codemirror_mode": {
    "name": "ipython",
    "version": 3
   },
   "file_extension": ".py",
   "mimetype": "text/x-python",
   "name": "python",
   "nbconvert_exporter": "python",
   "pygments_lexer": "ipython3",
   "version": "3.10.13"
  }
 },
 "nbformat": 4,
 "nbformat_minor": 4
}
