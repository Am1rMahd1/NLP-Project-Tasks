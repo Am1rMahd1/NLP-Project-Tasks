{
 "cells": [
  {
   "cell_type": "code",
   "execution_count": 161,
   "outputs": [],
   "source": [
    "from os import listdir\n",
    "import numpy as np\n",
    "import pandas as pd"
   ],
   "metadata": {
    "collapsed": false,
    "ExecuteTime": {
     "end_time": "2023-12-23T08:25:47.937650900Z",
     "start_time": "2023-12-23T08:25:47.600627200Z"
    }
   }
  },
  {
   "cell_type": "markdown",
   "source": [
    "# preparing train and test document paths to reading the texts"
   ],
   "metadata": {
    "collapsed": false
   }
  },
  {
   "cell_type": "code",
   "execution_count": 162,
   "outputs": [],
   "source": [
    "dataset_path = 'Dataset/Classification-Train And Test/'\n",
    "train_path = dataset_path + 'Train/'\n",
    "test_path  = dataset_path + 'Test/'"
   ],
   "metadata": {
    "collapsed": false,
    "ExecuteTime": {
     "end_time": "2023-12-23T08:25:47.964652900Z",
     "start_time": "2023-12-23T08:25:47.634628800Z"
    }
   }
  },
  {
   "cell_type": "code",
   "execution_count": 163,
   "outputs": [],
   "source": [
    "def get_files_list(directory_path):\n",
    "    rows = pd.DataFrame(columns=['path', 'class'])\n",
    "    for class_path_name in listdir(directory_path):\n",
    "        for data_file in listdir(directory_path + class_path_name):\n",
    "            single_row = pd.DataFrame ({\n",
    "                'path' : [directory_path + class_path_name + '/' + data_file],\n",
    "                'class' : [class_path_name]\n",
    "            })\n",
    "            rows = pd.concat([rows, single_row], ignore_index=True)\n",
    "    return rows"
   ],
   "metadata": {
    "collapsed": false,
    "ExecuteTime": {
     "end_time": "2023-12-23T08:25:47.986656600Z",
     "start_time": "2023-12-23T08:25:47.657630800Z"
    }
   }
  },
  {
   "cell_type": "code",
   "execution_count": 164,
   "outputs": [],
   "source": [
    "doc_train = get_files_list(train_path)\n",
    "doc_test  = get_files_list(test_path)"
   ],
   "metadata": {
    "collapsed": false,
    "ExecuteTime": {
     "end_time": "2023-12-23T08:25:48.029658900Z",
     "start_time": "2023-12-23T08:25:47.682632400Z"
    }
   }
  },
  {
   "cell_type": "code",
   "execution_count": 165,
   "outputs": [
    {
     "data": {
      "text/plain": "                                                 path                  class\n0   Dataset/Classification-Train And Test/Train/Co...          Comp.graphics\n1   Dataset/Classification-Train And Test/Train/Co...          Comp.graphics\n2   Dataset/Classification-Train And Test/Train/Co...          Comp.graphics\n3   Dataset/Classification-Train And Test/Train/Co...          Comp.graphics\n4   Dataset/Classification-Train And Test/Train/Co...          Comp.graphics\n..                                                ...                    ...\n89  Dataset/Classification-Train And Test/Train/ta...  talk.politics.mideast\n90  Dataset/Classification-Train And Test/Train/ta...  talk.politics.mideast\n91  Dataset/Classification-Train And Test/Train/ta...  talk.politics.mideast\n92  Dataset/Classification-Train And Test/Train/ta...  talk.politics.mideast\n93  Dataset/Classification-Train And Test/Train/ta...  talk.politics.mideast\n\n[94 rows x 2 columns]",
      "text/html": "<div>\n<style scoped>\n    .dataframe tbody tr th:only-of-type {\n        vertical-align: middle;\n    }\n\n    .dataframe tbody tr th {\n        vertical-align: top;\n    }\n\n    .dataframe thead th {\n        text-align: right;\n    }\n</style>\n<table border=\"1\" class=\"dataframe\">\n  <thead>\n    <tr style=\"text-align: right;\">\n      <th></th>\n      <th>path</th>\n      <th>class</th>\n    </tr>\n  </thead>\n  <tbody>\n    <tr>\n      <th>0</th>\n      <td>Dataset/Classification-Train And Test/Train/Co...</td>\n      <td>Comp.graphics</td>\n    </tr>\n    <tr>\n      <th>1</th>\n      <td>Dataset/Classification-Train And Test/Train/Co...</td>\n      <td>Comp.graphics</td>\n    </tr>\n    <tr>\n      <th>2</th>\n      <td>Dataset/Classification-Train And Test/Train/Co...</td>\n      <td>Comp.graphics</td>\n    </tr>\n    <tr>\n      <th>3</th>\n      <td>Dataset/Classification-Train And Test/Train/Co...</td>\n      <td>Comp.graphics</td>\n    </tr>\n    <tr>\n      <th>4</th>\n      <td>Dataset/Classification-Train And Test/Train/Co...</td>\n      <td>Comp.graphics</td>\n    </tr>\n    <tr>\n      <th>...</th>\n      <td>...</td>\n      <td>...</td>\n    </tr>\n    <tr>\n      <th>89</th>\n      <td>Dataset/Classification-Train And Test/Train/ta...</td>\n      <td>talk.politics.mideast</td>\n    </tr>\n    <tr>\n      <th>90</th>\n      <td>Dataset/Classification-Train And Test/Train/ta...</td>\n      <td>talk.politics.mideast</td>\n    </tr>\n    <tr>\n      <th>91</th>\n      <td>Dataset/Classification-Train And Test/Train/ta...</td>\n      <td>talk.politics.mideast</td>\n    </tr>\n    <tr>\n      <th>92</th>\n      <td>Dataset/Classification-Train And Test/Train/ta...</td>\n      <td>talk.politics.mideast</td>\n    </tr>\n    <tr>\n      <th>93</th>\n      <td>Dataset/Classification-Train And Test/Train/ta...</td>\n      <td>talk.politics.mideast</td>\n    </tr>\n  </tbody>\n</table>\n<p>94 rows × 2 columns</p>\n</div>"
     },
     "execution_count": 165,
     "metadata": {},
     "output_type": "execute_result"
    }
   ],
   "source": [
    "doc_train"
   ],
   "metadata": {
    "collapsed": false,
    "ExecuteTime": {
     "end_time": "2023-12-23T08:25:48.046658100Z",
     "start_time": "2023-12-23T08:25:47.922651200Z"
    }
   }
  },
  {
   "cell_type": "code",
   "execution_count": 166,
   "outputs": [
    {
     "data": {
      "text/plain": "                                                 path                   class\n0   Dataset/Classification-Train And Test/Test/Com...           Comp.graphics\n1   Dataset/Classification-Train And Test/Test/Com...           Comp.graphics\n2   Dataset/Classification-Train And Test/Test/rec...               rec.autos\n3   Dataset/Classification-Train And Test/Test/rec...               rec.autos\n4   Dataset/Classification-Train And Test/Test/rec...               rec.autos\n5   Dataset/Classification-Train And Test/Test/sci...         sci.electronics\n6   Dataset/Classification-Train And Test/Test/sci...         sci.electronics\n7   Dataset/Classification-Train And Test/Test/sci...         sci.electronics\n8   Dataset/Classification-Train And Test/Test/soc...  soc.religion.christian\n9   Dataset/Classification-Train And Test/Test/soc...  soc.religion.christian\n10  Dataset/Classification-Train And Test/Test/soc...  soc.religion.christian\n11  Dataset/Classification-Train And Test/Test/soc...  soc.religion.christian\n12  Dataset/Classification-Train And Test/Test/tal...   talk.politics.mideast\n13  Dataset/Classification-Train And Test/Test/tal...   talk.politics.mideast\n14  Dataset/Classification-Train And Test/Test/tal...   talk.politics.mideast\n15  Dataset/Classification-Train And Test/Test/tal...   talk.politics.mideast\n16  Dataset/Classification-Train And Test/Test/tal...   talk.politics.mideast",
      "text/html": "<div>\n<style scoped>\n    .dataframe tbody tr th:only-of-type {\n        vertical-align: middle;\n    }\n\n    .dataframe tbody tr th {\n        vertical-align: top;\n    }\n\n    .dataframe thead th {\n        text-align: right;\n    }\n</style>\n<table border=\"1\" class=\"dataframe\">\n  <thead>\n    <tr style=\"text-align: right;\">\n      <th></th>\n      <th>path</th>\n      <th>class</th>\n    </tr>\n  </thead>\n  <tbody>\n    <tr>\n      <th>0</th>\n      <td>Dataset/Classification-Train And Test/Test/Com...</td>\n      <td>Comp.graphics</td>\n    </tr>\n    <tr>\n      <th>1</th>\n      <td>Dataset/Classification-Train And Test/Test/Com...</td>\n      <td>Comp.graphics</td>\n    </tr>\n    <tr>\n      <th>2</th>\n      <td>Dataset/Classification-Train And Test/Test/rec...</td>\n      <td>rec.autos</td>\n    </tr>\n    <tr>\n      <th>3</th>\n      <td>Dataset/Classification-Train And Test/Test/rec...</td>\n      <td>rec.autos</td>\n    </tr>\n    <tr>\n      <th>4</th>\n      <td>Dataset/Classification-Train And Test/Test/rec...</td>\n      <td>rec.autos</td>\n    </tr>\n    <tr>\n      <th>5</th>\n      <td>Dataset/Classification-Train And Test/Test/sci...</td>\n      <td>sci.electronics</td>\n    </tr>\n    <tr>\n      <th>6</th>\n      <td>Dataset/Classification-Train And Test/Test/sci...</td>\n      <td>sci.electronics</td>\n    </tr>\n    <tr>\n      <th>7</th>\n      <td>Dataset/Classification-Train And Test/Test/sci...</td>\n      <td>sci.electronics</td>\n    </tr>\n    <tr>\n      <th>8</th>\n      <td>Dataset/Classification-Train And Test/Test/soc...</td>\n      <td>soc.religion.christian</td>\n    </tr>\n    <tr>\n      <th>9</th>\n      <td>Dataset/Classification-Train And Test/Test/soc...</td>\n      <td>soc.religion.christian</td>\n    </tr>\n    <tr>\n      <th>10</th>\n      <td>Dataset/Classification-Train And Test/Test/soc...</td>\n      <td>soc.religion.christian</td>\n    </tr>\n    <tr>\n      <th>11</th>\n      <td>Dataset/Classification-Train And Test/Test/soc...</td>\n      <td>soc.religion.christian</td>\n    </tr>\n    <tr>\n      <th>12</th>\n      <td>Dataset/Classification-Train And Test/Test/tal...</td>\n      <td>talk.politics.mideast</td>\n    </tr>\n    <tr>\n      <th>13</th>\n      <td>Dataset/Classification-Train And Test/Test/tal...</td>\n      <td>talk.politics.mideast</td>\n    </tr>\n    <tr>\n      <th>14</th>\n      <td>Dataset/Classification-Train And Test/Test/tal...</td>\n      <td>talk.politics.mideast</td>\n    </tr>\n    <tr>\n      <th>15</th>\n      <td>Dataset/Classification-Train And Test/Test/tal...</td>\n      <td>talk.politics.mideast</td>\n    </tr>\n    <tr>\n      <th>16</th>\n      <td>Dataset/Classification-Train And Test/Test/tal...</td>\n      <td>talk.politics.mideast</td>\n    </tr>\n  </tbody>\n</table>\n</div>"
     },
     "execution_count": 166,
     "metadata": {},
     "output_type": "execute_result"
    }
   ],
   "source": [
    "doc_test"
   ],
   "metadata": {
    "collapsed": false,
    "ExecuteTime": {
     "end_time": "2023-12-23T08:25:48.104667700Z",
     "start_time": "2023-12-23T08:25:47.975661Z"
    }
   }
  },
  {
   "cell_type": "markdown",
   "source": [
    "# Reading documents and converting them to a list of words for each class"
   ],
   "metadata": {
    "collapsed": false
   }
  },
  {
   "cell_type": "markdown",
   "source": [
    "## function to convert a sentence into list of words"
   ],
   "metadata": {
    "collapsed": false
   }
  },
  {
   "cell_type": "code",
   "execution_count": 167,
   "outputs": [],
   "source": [
    "stopwords = ['a', 'about', 'above', 'after', 'again', 'against', 'all', 'am', 'an', 'and', 'any', 'are', \"aren't\", 'as',\n",
    "             'at',\n",
    "             'be', 'because', 'been', 'before', 'being', 'below', 'between', 'both', 'but', 'by',\n",
    "             'can', \"can't\", 'cannot', 'could', \"couldn't\", 'did', \"didn't\", 'do', 'does', \"doesn't\", 'doing', \"don't\",\n",
    "             'down', 'during',\n",
    "             'each', 'few', 'for', 'from', 'further',\n",
    "             'had', \"hadn't\", 'has', \"hasn't\", 'have', \"haven't\", 'having', 'he', \"he'd\", \"he'll\", \"he's\", 'her',\n",
    "             'here', \"here's\",\n",
    "             'hers', 'herself', 'him', 'himself', 'his', 'how', \"how's\",\n",
    "             'i', \"i'd\", \"i'll\", \"i'm\", \"i've\", 'if', 'in', 'into', 'is', \"isn't\", 'it', \"it's\", 'its', 'itself',\n",
    "             \"let's\", 'me', 'more', 'most', \"mustn't\", 'my', 'myself',\n",
    "             'no', 'nor', 'not', 'of', 'off', 'on', 'once', 'only', 'or', 'other', 'ought', 'our', 'ours' 'ourselves',\n",
    "             'out', 'over', 'own',\n",
    "             'same', \"shan't\", 'she', \"she'd\", \"she'll\", \"she's\", 'should', \"shouldn't\", 'so', 'some', 'such',\n",
    "             'than', 'that', \"that's\", 'the', 'their', 'theirs', 'them', 'themselves', 'then', 'there', \"there's\",\n",
    "             'these', 'they', \"they'd\",\n",
    "             \"they'll\", \"they're\", \"they've\", 'this', 'those', 'through', 'to', 'too', 'under', 'until', 'up', 'very',\n",
    "             'was', \"wasn't\", 'we', \"we'd\", \"we'll\", \"we're\", \"we've\", 'were', \"weren't\", 'what', \"what's\", 'when',\n",
    "             \"when's\", 'where',\n",
    "             \"where's\", 'which', 'while', 'who', \"who's\", 'whom', 'why', \"why's\", 'will', 'with', \"won't\", 'would',\n",
    "             \"wouldn't\",\n",
    "             'you', \"you'd\", \"you'll\", \"you're\", \"you've\", 'your', 'yours', 'yourself', 'yourselves',\n",
    "             'one', 'two', 'three', 'four', 'five', 'six', 'seven', 'eight', 'nine', 'ten', 'hundred', 'thousand',\n",
    "             '1st', '2nd', '3rd',\n",
    "             '4th', '5th', '6th', '7th', '8th', '9th', '10th']"
   ],
   "metadata": {
    "collapsed": false,
    "ExecuteTime": {
     "end_time": "2023-12-23T08:25:48.166668Z",
     "start_time": "2023-12-23T08:25:48.071667600Z"
    }
   }
  },
  {
   "cell_type": "code",
   "execution_count": 168,
   "outputs": [],
   "source": [
    "def remove_stopwords(words):\n",
    "    words = [word for word in words if not word in stopwords]\n",
    "    return words"
   ],
   "metadata": {
    "collapsed": false,
    "ExecuteTime": {
     "end_time": "2023-12-23T08:25:48.171670700Z",
     "start_time": "2023-12-23T08:25:48.107665400Z"
    }
   }
  },
  {
   "cell_type": "code",
   "execution_count": 169,
   "outputs": [],
   "source": [
    "def tokenize_sentence(line):\n",
    "    words = line.strip().split(\" \")\n",
    "    words = remove_stopwords(words)\n",
    "    return words"
   ],
   "metadata": {
    "collapsed": false,
    "ExecuteTime": {
     "end_time": "2023-12-23T08:25:48.356681700Z",
     "start_time": "2023-12-23T08:25:48.129670600Z"
    }
   }
  },
  {
   "cell_type": "markdown",
   "source": [
    "## function to open and read a document and convert it into a list of sentences (lines)"
   ],
   "metadata": {
    "collapsed": false
   }
  },
  {
   "cell_type": "code",
   "execution_count": 169,
   "outputs": [],
   "source": [],
   "metadata": {
    "collapsed": false,
    "ExecuteTime": {
     "end_time": "2023-12-23T08:25:48.357683Z",
     "start_time": "2023-12-23T08:25:48.164668900Z"
    }
   }
  },
  {
   "cell_type": "code",
   "execution_count": 170,
   "outputs": [],
   "source": [
    "def tokenize(document_path):\n",
    "    f = open(document_path, 'r')\n",
    "    text_lines_in_given_document = f.readlines()\n",
    "\n",
    "    words_in_given_document = []\n",
    "\n",
    "    #traverse over all the lines and tokenize each one with the help of helper function: tokenize_sentence\n",
    "    for line in text_lines_in_given_document:\n",
    "        words_in_given_document.append(tokenize_sentence(line))\n",
    "    return words_in_given_document[0]"
   ],
   "metadata": {
    "collapsed": false,
    "ExecuteTime": {
     "end_time": "2023-12-23T08:25:48.414683500Z",
     "start_time": "2023-12-23T08:25:48.173674300Z"
    }
   }
  },
  {
   "cell_type": "markdown",
   "source": [
    "## update the dataset (add the list of words in each train document)"
   ],
   "metadata": {
    "collapsed": false
   }
  },
  {
   "cell_type": "code",
   "execution_count": 171,
   "outputs": [],
   "source": [
    "def get_bag_of_words(words):\n",
    "    words, frequency = np.unique(np.array(words), return_counts=True)\n",
    "    return dict(zip(words, frequency))"
   ],
   "metadata": {
    "collapsed": false,
    "ExecuteTime": {
     "end_time": "2023-12-23T08:25:48.468687500Z",
     "start_time": "2023-12-23T08:25:48.216679400Z"
    }
   }
  },
  {
   "cell_type": "code",
   "execution_count": 172,
   "outputs": [
    {
     "data": {
      "text/plain": "                    class                                              words  \\\n0           Comp.graphics  [comp.graphics\\tdmpeg, zip, info, another, dos...   \n1               rec.autos  [rec.autos\\tre, integra, gsr, article, apr, ns...   \n2         sci.electronics  [sci.electronics\\tradar, detector, detectors, ...   \n3  soc.religion.christian  [soc.religion.christian\\tweirdness, early, chr...   \n4   talk.politics.mideast  [talk.politics.mideast\\tit, sickening, think, ...   \n\n                                        bag_of_words  \n0  {'abc': 1, 'able': 8, 'abstracts': 1, 'accept'...  \n1  {'aardvark': 1, 'abbreviations': 2, 'able': 7,...  \n2  {'aaahh': 1, 'aalternate': 1, 'ab': 2, 'abando...  \n3  {'abandon': 1, 'abandoned': 2, 'ability': 4, '...  \n4  {'ababs': 1, 'abduction': 1, 'abdulhamid': 1, ...  ",
      "text/html": "<div>\n<style scoped>\n    .dataframe tbody tr th:only-of-type {\n        vertical-align: middle;\n    }\n\n    .dataframe tbody tr th {\n        vertical-align: top;\n    }\n\n    .dataframe thead th {\n        text-align: right;\n    }\n</style>\n<table border=\"1\" class=\"dataframe\">\n  <thead>\n    <tr style=\"text-align: right;\">\n      <th></th>\n      <th>class</th>\n      <th>words</th>\n      <th>bag_of_words</th>\n    </tr>\n  </thead>\n  <tbody>\n    <tr>\n      <th>0</th>\n      <td>Comp.graphics</td>\n      <td>[comp.graphics\\tdmpeg, zip, info, another, dos...</td>\n      <td>{'abc': 1, 'able': 8, 'abstracts': 1, 'accept'...</td>\n    </tr>\n    <tr>\n      <th>1</th>\n      <td>rec.autos</td>\n      <td>[rec.autos\\tre, integra, gsr, article, apr, ns...</td>\n      <td>{'aardvark': 1, 'abbreviations': 2, 'able': 7,...</td>\n    </tr>\n    <tr>\n      <th>2</th>\n      <td>sci.electronics</td>\n      <td>[sci.electronics\\tradar, detector, detectors, ...</td>\n      <td>{'aaahh': 1, 'aalternate': 1, 'ab': 2, 'abando...</td>\n    </tr>\n    <tr>\n      <th>3</th>\n      <td>soc.religion.christian</td>\n      <td>[soc.religion.christian\\tweirdness, early, chr...</td>\n      <td>{'abandon': 1, 'abandoned': 2, 'ability': 4, '...</td>\n    </tr>\n    <tr>\n      <th>4</th>\n      <td>talk.politics.mideast</td>\n      <td>[talk.politics.mideast\\tit, sickening, think, ...</td>\n      <td>{'ababs': 1, 'abduction': 1, 'abdulhamid': 1, ...</td>\n    </tr>\n  </tbody>\n</table>\n</div>"
     },
     "execution_count": 172,
     "metadata": {},
     "output_type": "execute_result"
    }
   ],
   "source": [
    "result_df = pd.DataFrame(columns=['class', 'words'], )\n",
    "class_words_dict = {}\n",
    "for class_name in doc_train['class'].unique():\n",
    "    # Filter the original DataFrame for the current class\n",
    "    class_data = doc_train[doc_train['class'] == class_name]\n",
    "\n",
    "    # Use the get_words_from_file function to get a list of words for each file in the current class\n",
    "    words_list = [tokenize(file_path) for file_path in class_data['path']]\n",
    "\n",
    "    # Accumulate all words for the current class\n",
    "    class_words_dict[class_name] = [word for words in words_list for word in words]\n",
    "\n",
    "# Create the result DataFrame from the accumulated words\n",
    "result_df = pd.DataFrame({'class': list(class_words_dict.keys()), 'words': np.asarray(class_words_dict.values())})\n",
    "\n",
    "result_df['bag_of_words'] = result_df['words'].apply(lambda words : get_bag_of_words(words))\n",
    "result_df"
   ],
   "metadata": {
    "collapsed": false,
    "ExecuteTime": {
     "end_time": "2023-12-23T08:25:49.660513300Z",
     "start_time": "2023-12-23T08:25:48.264677100Z"
    }
   }
  },
  {
   "cell_type": "code",
   "execution_count": 173,
   "outputs": [
    {
     "data": {
      "text/plain": "                    class                                              words  \\\n0           Comp.graphics  [comp.graphics\\tdmpeg, zip, info, another, dos...   \n1               rec.autos  [rec.autos\\tre, integra, gsr, article, apr, ns...   \n2         sci.electronics  [sci.electronics\\tradar, detector, detectors, ...   \n3  soc.religion.christian  [soc.religion.christian\\tweirdness, early, chr...   \n4   talk.politics.mideast  [talk.politics.mideast\\tit, sickening, think, ...   \n\n                                        bag_of_words  count_of_documents  \n0  {'abc': 1, 'able': 8, 'abstracts': 1, 'accept'...                   8  \n1  {'aardvark': 1, 'abbreviations': 2, 'able': 7,...                  15  \n2  {'aaahh': 1, 'aalternate': 1, 'ab': 2, 'abando...                  14  \n3  {'abandon': 1, 'abandoned': 2, 'ability': 4, '...                  27  \n4  {'ababs': 1, 'abduction': 1, 'abdulhamid': 1, ...                  30  ",
      "text/html": "<div>\n<style scoped>\n    .dataframe tbody tr th:only-of-type {\n        vertical-align: middle;\n    }\n\n    .dataframe tbody tr th {\n        vertical-align: top;\n    }\n\n    .dataframe thead th {\n        text-align: right;\n    }\n</style>\n<table border=\"1\" class=\"dataframe\">\n  <thead>\n    <tr style=\"text-align: right;\">\n      <th></th>\n      <th>class</th>\n      <th>words</th>\n      <th>bag_of_words</th>\n      <th>count_of_documents</th>\n    </tr>\n  </thead>\n  <tbody>\n    <tr>\n      <th>0</th>\n      <td>Comp.graphics</td>\n      <td>[comp.graphics\\tdmpeg, zip, info, another, dos...</td>\n      <td>{'abc': 1, 'able': 8, 'abstracts': 1, 'accept'...</td>\n      <td>8</td>\n    </tr>\n    <tr>\n      <th>1</th>\n      <td>rec.autos</td>\n      <td>[rec.autos\\tre, integra, gsr, article, apr, ns...</td>\n      <td>{'aardvark': 1, 'abbreviations': 2, 'able': 7,...</td>\n      <td>15</td>\n    </tr>\n    <tr>\n      <th>2</th>\n      <td>sci.electronics</td>\n      <td>[sci.electronics\\tradar, detector, detectors, ...</td>\n      <td>{'aaahh': 1, 'aalternate': 1, 'ab': 2, 'abando...</td>\n      <td>14</td>\n    </tr>\n    <tr>\n      <th>3</th>\n      <td>soc.religion.christian</td>\n      <td>[soc.religion.christian\\tweirdness, early, chr...</td>\n      <td>{'abandon': 1, 'abandoned': 2, 'ability': 4, '...</td>\n      <td>27</td>\n    </tr>\n    <tr>\n      <th>4</th>\n      <td>talk.politics.mideast</td>\n      <td>[talk.politics.mideast\\tit, sickening, think, ...</td>\n      <td>{'ababs': 1, 'abduction': 1, 'abdulhamid': 1, ...</td>\n      <td>30</td>\n    </tr>\n  </tbody>\n</table>\n</div>"
     },
     "execution_count": 173,
     "metadata": {},
     "output_type": "execute_result"
    }
   ],
   "source": [
    "count_of_documents = []\n",
    "for class_name in doc_train['class'].unique():\n",
    "    count_of_documents.append(\n",
    "        doc_train.loc[doc_train['class'] == class_name].count()['class']\n",
    "    )\n",
    "result_df['count_of_documents'] = count_of_documents\n",
    "result_df"
   ],
   "metadata": {
    "collapsed": false,
    "ExecuteTime": {
     "end_time": "2023-12-23T08:25:49.897083600Z",
     "start_time": "2023-12-23T08:25:49.631517Z"
    }
   }
  },
  {
   "cell_type": "code",
   "execution_count": 174,
   "outputs": [
    {
     "data": {
      "text/plain": "12815"
     },
     "execution_count": 174,
     "metadata": {},
     "output_type": "execute_result"
    }
   ],
   "source": [
    "total_types = set()\n",
    "for bag_of_words_of_this_class in result_df['bag_of_words']:\n",
    "    total_types = total_types.union(set(bag_of_words_of_this_class.keys()))\n",
    "len(total_types)"
   ],
   "metadata": {
    "collapsed": false,
    "ExecuteTime": {
     "end_time": "2023-12-23T08:25:49.973085800Z",
     "start_time": "2023-12-23T08:25:49.781076200Z"
    }
   }
  },
  {
   "cell_type": "code",
   "execution_count": 175,
   "outputs": [
    {
     "data": {
      "text/plain": "{'Comp.graphics': -12.166081035312091,\n 'rec.autos': -11.162523187611859,\n 'sci.electronics': -11.999212757101072,\n 'soc.religion.christian': -11.556843816381527,\n 'talk.politics.mideast': -11.353271838333436}"
     },
     "metadata": {},
     "output_type": "display_data"
    },
    {
     "data": {
      "text/plain": "'rec.autos'"
     },
     "execution_count": 175,
     "metadata": {},
     "output_type": "execute_result"
    }
   ],
   "source": [
    "def predict(words_in_a_test_document, show_probabilities=False):\n",
    "    count_of_all_train_documents = doc_train.count()['class']\n",
    "    final_probabilities = {}\n",
    "    for class_namee in doc_train['class'].unique():\n",
    "        probabilities = {}\n",
    "        class_properties = result_df.loc[result_df['class'] == class_namee].iloc[0]\n",
    "        bag_of_words_of_this_class = class_properties['bag_of_words']\n",
    "        count_of_documents_with_this_class = class_properties['count_of_documents']\n",
    "        probability_of_this_class = count_of_documents_with_this_class / count_of_all_train_documents\n",
    "        probabilities['P('+class_namee+')'] = probability_of_this_class\n",
    "        for test_word in words_in_a_test_document:\n",
    "            if test_word not in total_types:\n",
    "                continue\n",
    "            elif test_word not in bag_of_words_of_this_class.keys():\n",
    "                count_of_this_word_in_this_class = 0\n",
    "            else:\n",
    "                count_of_this_word_in_this_class = bag_of_words_of_this_class[test_word]\n",
    "            sum_of_words_in_this_class = np.sum(list(bag_of_words_of_this_class.values()))\n",
    "            probability_of_word_in_this_class = (count_of_this_word_in_this_class + 1) / (sum_of_words_in_this_class + len(total_types))\n",
    "            probabilities['P(\\''+test_word+'\\'|'+class_namee+')'] = probability_of_word_in_this_class\n",
    "        # display(probabilities)\n",
    "        final_probabilities[class_namee] = np.sum(\n",
    "            np.log(\n",
    "                list(probabilities.values())\n",
    "            )\n",
    "        )\n",
    "    if show_probabilities :\n",
    "        display(final_probabilities)\n",
    "    arg_max = np.argmax(list(final_probabilities.values()))\n",
    "    return list(final_probabilities.keys())[arg_max]\n",
    "predict(['predictable', 'with', 'no', 'fun'], show_probabilities=True)"
   ],
   "metadata": {
    "collapsed": false,
    "ExecuteTime": {
     "end_time": "2023-12-23T08:25:49.976086800Z",
     "start_time": "2023-12-23T08:25:49.837085300Z"
    }
   }
  },
  {
   "cell_type": "code",
   "execution_count": 176,
   "outputs": [
    {
     "data": {
      "text/plain": "                                                 path                   class  \\\n0   Dataset/Classification-Train And Test/Test/Com...           Comp.graphics   \n1   Dataset/Classification-Train And Test/Test/Com...           Comp.graphics   \n2   Dataset/Classification-Train And Test/Test/rec...               rec.autos   \n3   Dataset/Classification-Train And Test/Test/rec...               rec.autos   \n4   Dataset/Classification-Train And Test/Test/rec...               rec.autos   \n5   Dataset/Classification-Train And Test/Test/sci...         sci.electronics   \n6   Dataset/Classification-Train And Test/Test/sci...         sci.electronics   \n7   Dataset/Classification-Train And Test/Test/sci...         sci.electronics   \n8   Dataset/Classification-Train And Test/Test/soc...  soc.religion.christian   \n9   Dataset/Classification-Train And Test/Test/soc...  soc.religion.christian   \n10  Dataset/Classification-Train And Test/Test/soc...  soc.religion.christian   \n11  Dataset/Classification-Train And Test/Test/soc...  soc.religion.christian   \n12  Dataset/Classification-Train And Test/Test/tal...   talk.politics.mideast   \n13  Dataset/Classification-Train And Test/Test/tal...   talk.politics.mideast   \n14  Dataset/Classification-Train And Test/Test/tal...   talk.politics.mideast   \n15  Dataset/Classification-Train And Test/Test/tal...   talk.politics.mideast   \n16  Dataset/Classification-Train And Test/Test/tal...   talk.politics.mideast   \n\n                                                words  \n0   [comp.graphics\\tcall, presentations, navy, sci...  \n1   [comp.graphics\\tre, gray, levels, screen, arti...  \n2   [rec.autos\\tre, saturn, s, pricing, policy, ar...  \n3   [rec.autos\\tre, integra, gsr, article, mwf, b,...  \n4   [rec.autos\\tre, hard, change, springs, f, truc...  \n5   [sci.electronics\\tre, oscilloscope, triggering...  \n6   [sci.electronics\\tre, help, ultra, long, timin...  \n7   [sci.electronics\\tre, info, nec, d, multisync,...  \n8   [soc.religion.christian\\tdoes, god, love, come...  \n9   [soc.religion.christian\\tquality, catholic, li...  \n10  [soc.religion.christian\\tre, christians, aids,...  \n11  [soc.religion.christian\\tre, ancient, books, s...  \n12  [talk.politics.mideast\\tre, jews, latvia, docu...  \n13  [talk.politics.mideast\\tre, israelis, murdered...  \n14  [talk.politics.mideast\\tre, systematic, genoci...  \n15  [talk.politics.mideast\\tre, systematic, genoci...  \n16  [talk.politics.mideast\\tre, israelis, murdered...  ",
      "text/html": "<div>\n<style scoped>\n    .dataframe tbody tr th:only-of-type {\n        vertical-align: middle;\n    }\n\n    .dataframe tbody tr th {\n        vertical-align: top;\n    }\n\n    .dataframe thead th {\n        text-align: right;\n    }\n</style>\n<table border=\"1\" class=\"dataframe\">\n  <thead>\n    <tr style=\"text-align: right;\">\n      <th></th>\n      <th>path</th>\n      <th>class</th>\n      <th>words</th>\n    </tr>\n  </thead>\n  <tbody>\n    <tr>\n      <th>0</th>\n      <td>Dataset/Classification-Train And Test/Test/Com...</td>\n      <td>Comp.graphics</td>\n      <td>[comp.graphics\\tcall, presentations, navy, sci...</td>\n    </tr>\n    <tr>\n      <th>1</th>\n      <td>Dataset/Classification-Train And Test/Test/Com...</td>\n      <td>Comp.graphics</td>\n      <td>[comp.graphics\\tre, gray, levels, screen, arti...</td>\n    </tr>\n    <tr>\n      <th>2</th>\n      <td>Dataset/Classification-Train And Test/Test/rec...</td>\n      <td>rec.autos</td>\n      <td>[rec.autos\\tre, saturn, s, pricing, policy, ar...</td>\n    </tr>\n    <tr>\n      <th>3</th>\n      <td>Dataset/Classification-Train And Test/Test/rec...</td>\n      <td>rec.autos</td>\n      <td>[rec.autos\\tre, integra, gsr, article, mwf, b,...</td>\n    </tr>\n    <tr>\n      <th>4</th>\n      <td>Dataset/Classification-Train And Test/Test/rec...</td>\n      <td>rec.autos</td>\n      <td>[rec.autos\\tre, hard, change, springs, f, truc...</td>\n    </tr>\n    <tr>\n      <th>5</th>\n      <td>Dataset/Classification-Train And Test/Test/sci...</td>\n      <td>sci.electronics</td>\n      <td>[sci.electronics\\tre, oscilloscope, triggering...</td>\n    </tr>\n    <tr>\n      <th>6</th>\n      <td>Dataset/Classification-Train And Test/Test/sci...</td>\n      <td>sci.electronics</td>\n      <td>[sci.electronics\\tre, help, ultra, long, timin...</td>\n    </tr>\n    <tr>\n      <th>7</th>\n      <td>Dataset/Classification-Train And Test/Test/sci...</td>\n      <td>sci.electronics</td>\n      <td>[sci.electronics\\tre, info, nec, d, multisync,...</td>\n    </tr>\n    <tr>\n      <th>8</th>\n      <td>Dataset/Classification-Train And Test/Test/soc...</td>\n      <td>soc.religion.christian</td>\n      <td>[soc.religion.christian\\tdoes, god, love, come...</td>\n    </tr>\n    <tr>\n      <th>9</th>\n      <td>Dataset/Classification-Train And Test/Test/soc...</td>\n      <td>soc.religion.christian</td>\n      <td>[soc.religion.christian\\tquality, catholic, li...</td>\n    </tr>\n    <tr>\n      <th>10</th>\n      <td>Dataset/Classification-Train And Test/Test/soc...</td>\n      <td>soc.religion.christian</td>\n      <td>[soc.religion.christian\\tre, christians, aids,...</td>\n    </tr>\n    <tr>\n      <th>11</th>\n      <td>Dataset/Classification-Train And Test/Test/soc...</td>\n      <td>soc.religion.christian</td>\n      <td>[soc.religion.christian\\tre, ancient, books, s...</td>\n    </tr>\n    <tr>\n      <th>12</th>\n      <td>Dataset/Classification-Train And Test/Test/tal...</td>\n      <td>talk.politics.mideast</td>\n      <td>[talk.politics.mideast\\tre, jews, latvia, docu...</td>\n    </tr>\n    <tr>\n      <th>13</th>\n      <td>Dataset/Classification-Train And Test/Test/tal...</td>\n      <td>talk.politics.mideast</td>\n      <td>[talk.politics.mideast\\tre, israelis, murdered...</td>\n    </tr>\n    <tr>\n      <th>14</th>\n      <td>Dataset/Classification-Train And Test/Test/tal...</td>\n      <td>talk.politics.mideast</td>\n      <td>[talk.politics.mideast\\tre, systematic, genoci...</td>\n    </tr>\n    <tr>\n      <th>15</th>\n      <td>Dataset/Classification-Train And Test/Test/tal...</td>\n      <td>talk.politics.mideast</td>\n      <td>[talk.politics.mideast\\tre, systematic, genoci...</td>\n    </tr>\n    <tr>\n      <th>16</th>\n      <td>Dataset/Classification-Train And Test/Test/tal...</td>\n      <td>talk.politics.mideast</td>\n      <td>[talk.politics.mideast\\tre, israelis, murdered...</td>\n    </tr>\n  </tbody>\n</table>\n</div>"
     },
     "execution_count": 176,
     "metadata": {},
     "output_type": "execute_result"
    }
   ],
   "source": [
    "doc_test['words'] = doc_test['path'].apply(lambda path: tokenize(path))\n",
    "doc_test"
   ],
   "metadata": {
    "collapsed": false,
    "ExecuteTime": {
     "end_time": "2023-12-23T08:25:50.267124200Z",
     "start_time": "2023-12-23T08:25:49.916084600Z"
    }
   }
  },
  {
   "cell_type": "code",
   "execution_count": 177,
   "outputs": [],
   "source": [
    "doc_test['predicted'] = doc_test['words'].apply(lambda words: predict(words))"
   ],
   "metadata": {
    "collapsed": false,
    "ExecuteTime": {
     "end_time": "2023-12-23T08:26:07.712862800Z",
     "start_time": "2023-12-23T08:25:50.137103700Z"
    }
   }
  },
  {
   "cell_type": "code",
   "execution_count": 178,
   "outputs": [
    {
     "data": {
      "text/plain": "                     class               predicted\n0            Comp.graphics           Comp.graphics\n1            Comp.graphics               rec.autos\n2                rec.autos               rec.autos\n3                rec.autos               rec.autos\n4                rec.autos               rec.autos\n5          sci.electronics         sci.electronics\n6          sci.electronics         sci.electronics\n7          sci.electronics         sci.electronics\n8   soc.religion.christian  soc.religion.christian\n9   soc.religion.christian  soc.religion.christian\n10  soc.religion.christian  soc.religion.christian\n11  soc.religion.christian  soc.religion.christian\n12   talk.politics.mideast   talk.politics.mideast\n13   talk.politics.mideast   talk.politics.mideast\n14   talk.politics.mideast   talk.politics.mideast\n15   talk.politics.mideast   talk.politics.mideast\n16   talk.politics.mideast   talk.politics.mideast",
      "text/html": "<div>\n<style scoped>\n    .dataframe tbody tr th:only-of-type {\n        vertical-align: middle;\n    }\n\n    .dataframe tbody tr th {\n        vertical-align: top;\n    }\n\n    .dataframe thead th {\n        text-align: right;\n    }\n</style>\n<table border=\"1\" class=\"dataframe\">\n  <thead>\n    <tr style=\"text-align: right;\">\n      <th></th>\n      <th>class</th>\n      <th>predicted</th>\n    </tr>\n  </thead>\n  <tbody>\n    <tr>\n      <th>0</th>\n      <td>Comp.graphics</td>\n      <td>Comp.graphics</td>\n    </tr>\n    <tr>\n      <th>1</th>\n      <td>Comp.graphics</td>\n      <td>rec.autos</td>\n    </tr>\n    <tr>\n      <th>2</th>\n      <td>rec.autos</td>\n      <td>rec.autos</td>\n    </tr>\n    <tr>\n      <th>3</th>\n      <td>rec.autos</td>\n      <td>rec.autos</td>\n    </tr>\n    <tr>\n      <th>4</th>\n      <td>rec.autos</td>\n      <td>rec.autos</td>\n    </tr>\n    <tr>\n      <th>5</th>\n      <td>sci.electronics</td>\n      <td>sci.electronics</td>\n    </tr>\n    <tr>\n      <th>6</th>\n      <td>sci.electronics</td>\n      <td>sci.electronics</td>\n    </tr>\n    <tr>\n      <th>7</th>\n      <td>sci.electronics</td>\n      <td>sci.electronics</td>\n    </tr>\n    <tr>\n      <th>8</th>\n      <td>soc.religion.christian</td>\n      <td>soc.religion.christian</td>\n    </tr>\n    <tr>\n      <th>9</th>\n      <td>soc.religion.christian</td>\n      <td>soc.religion.christian</td>\n    </tr>\n    <tr>\n      <th>10</th>\n      <td>soc.religion.christian</td>\n      <td>soc.religion.christian</td>\n    </tr>\n    <tr>\n      <th>11</th>\n      <td>soc.religion.christian</td>\n      <td>soc.religion.christian</td>\n    </tr>\n    <tr>\n      <th>12</th>\n      <td>talk.politics.mideast</td>\n      <td>talk.politics.mideast</td>\n    </tr>\n    <tr>\n      <th>13</th>\n      <td>talk.politics.mideast</td>\n      <td>talk.politics.mideast</td>\n    </tr>\n    <tr>\n      <th>14</th>\n      <td>talk.politics.mideast</td>\n      <td>talk.politics.mideast</td>\n    </tr>\n    <tr>\n      <th>15</th>\n      <td>talk.politics.mideast</td>\n      <td>talk.politics.mideast</td>\n    </tr>\n    <tr>\n      <th>16</th>\n      <td>talk.politics.mideast</td>\n      <td>talk.politics.mideast</td>\n    </tr>\n  </tbody>\n</table>\n</div>"
     },
     "execution_count": 178,
     "metadata": {},
     "output_type": "execute_result"
    }
   ],
   "source": [
    "doc_test.get(['class', 'predicted'])"
   ],
   "metadata": {
    "collapsed": false,
    "ExecuteTime": {
     "end_time": "2023-12-23T08:26:07.769637600Z",
     "start_time": "2023-12-23T08:26:07.722862700Z"
    }
   }
  },
  {
   "cell_type": "code",
   "execution_count": 179,
   "outputs": [
    {
     "name": "stdout",
     "output_type": "stream",
     "text": [
      "                        precision    recall  f1-score   support\n",
      "\n",
      "         Comp.graphics       1.00      0.50      0.67         2\n",
      "             rec.autos       0.75      1.00      0.86         3\n",
      "       sci.electronics       1.00      1.00      1.00         3\n",
      "soc.religion.christian       1.00      1.00      1.00         4\n",
      " talk.politics.mideast       1.00      1.00      1.00         5\n",
      "\n",
      "              accuracy                           0.94        17\n",
      "             macro avg       0.95      0.90      0.90        17\n",
      "          weighted avg       0.96      0.94      0.94        17\n",
      "\n"
     ]
    }
   ],
   "source": [
    "from sklearn.metrics import classification_report\n",
    "print(classification_report(doc_test['class'], doc_test['predicted']))"
   ],
   "metadata": {
    "collapsed": false,
    "ExecuteTime": {
     "end_time": "2023-12-23T08:26:07.896367200Z",
     "start_time": "2023-12-23T08:26:07.765634900Z"
    }
   }
  }
 ],
 "metadata": {
  "kernelspec": {
   "display_name": "Python 3 (ipykernel)",
   "language": "python",
   "name": "python3"
  },
  "language_info": {
   "codemirror_mode": {
    "name": "ipython",
    "version": 3
   },
   "file_extension": ".py",
   "mimetype": "text/x-python",
   "name": "python",
   "nbconvert_exporter": "python",
   "pygments_lexer": "ipython3",
   "version": "3.10.13"
  }
 },
 "nbformat": 4,
 "nbformat_minor": 4
}
