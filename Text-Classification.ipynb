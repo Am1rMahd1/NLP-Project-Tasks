{
 "cells": [
  {
   "cell_type": "raw",
   "source": [
    "Collect train and test files path into two lists"
   ],
   "metadata": {
    "collapsed": false
   }
  },
  {
   "cell_type": "code",
   "execution_count": 38,
   "outputs": [],
   "source": [
    "from os import listdir\n",
    "import numpy as np"
   ],
   "metadata": {
    "collapsed": false,
    "ExecuteTime": {
     "end_time": "2023-12-10T21:53:36.607595100Z",
     "start_time": "2023-12-10T21:53:36.576331400Z"
    }
   }
  },
  {
   "cell_type": "code",
   "execution_count": 39,
   "outputs": [],
   "source": [
    "my_path = 'Dataset/Classification-Train And Test/'\n",
    "train_path = my_path + 'Train/'\n",
    "test_path  = my_path + 'Test/'"
   ],
   "metadata": {
    "collapsed": false,
    "ExecuteTime": {
     "end_time": "2023-12-10T21:53:37.103237900Z",
     "start_time": "2023-12-10T21:53:37.087607Z"
    }
   }
  },
  {
   "cell_type": "code",
   "execution_count": 40,
   "outputs": [],
   "source": [
    "def get_files_list(directory_path):\n",
    "    files_path = []\n",
    "    for class_path_name in listdir(directory_path):\n",
    "        for data_file in listdir(directory_path + class_path_name):\n",
    "            files_path.append(directory_path + class_path_name + '/' + data_file)\n",
    "    return files_path"
   ],
   "metadata": {
    "collapsed": false,
    "ExecuteTime": {
     "end_time": "2023-12-10T21:53:37.537086400Z",
     "start_time": "2023-12-10T21:53:37.527973Z"
    }
   }
  },
  {
   "cell_type": "code",
   "execution_count": 49,
   "outputs": [],
   "source": [
    "doc_train = get_files_list(train_path)\n",
    "doc_test  = get_files_list(test_path)"
   ],
   "metadata": {
    "collapsed": false,
    "ExecuteTime": {
     "end_time": "2023-12-10T21:59:12.219564800Z",
     "start_time": "2023-12-10T21:59:12.201470100Z"
    }
   }
  },
  {
   "cell_type": "code",
   "execution_count": 50,
   "outputs": [
    {
     "data": {
      "text/plain": "['Dataset/Classification-Train And Test/Train/Comp.graphics/data554.txt',\n 'Dataset/Classification-Train And Test/Train/Comp.graphics/data565.txt',\n 'Dataset/Classification-Train And Test/Train/Comp.graphics/data572.txt',\n 'Dataset/Classification-Train And Test/Train/Comp.graphics/data574.txt',\n 'Dataset/Classification-Train And Test/Train/Comp.graphics/data607.txt',\n 'Dataset/Classification-Train And Test/Train/Comp.graphics/data608.txt',\n 'Dataset/Classification-Train And Test/Train/Comp.graphics/data619.txt',\n 'Dataset/Classification-Train And Test/Train/Comp.graphics/data624.txt',\n 'Dataset/Classification-Train And Test/Train/rec.autos/data4025.txt',\n 'Dataset/Classification-Train And Test/Train/rec.autos/data4032.txt']"
     },
     "execution_count": 50,
     "metadata": {},
     "output_type": "execute_result"
    }
   ],
   "source": [
    "doc_train[:10]"
   ],
   "metadata": {
    "collapsed": false,
    "ExecuteTime": {
     "end_time": "2023-12-10T21:59:20.167403800Z",
     "start_time": "2023-12-10T21:59:20.152404200Z"
    }
   }
  },
  {
   "cell_type": "code",
   "execution_count": 51,
   "outputs": [
    {
     "data": {
      "text/plain": "['Dataset/Classification-Train And Test/Test/Comp.graphics/data480.txt',\n 'Dataset/Classification-Train And Test/Test/Comp.graphics/data488.txt',\n 'Dataset/Classification-Train And Test/Test/rec.autos/data3982.txt',\n 'Dataset/Classification-Train And Test/Test/rec.autos/data3992.txt',\n 'Dataset/Classification-Train And Test/Test/rec.autos/data4011.txt',\n 'Dataset/Classification-Train And Test/Test/sci.electronics/data6990.txt',\n 'Dataset/Classification-Train And Test/Test/sci.electronics/data6993.txt',\n 'Dataset/Classification-Train And Test/Test/sci.electronics/data7016.txt',\n 'Dataset/Classification-Train And Test/Test/soc.religion.christian/data8750.txt',\n 'Dataset/Classification-Train And Test/Test/soc.religion.christian/data8752.txt']"
     },
     "execution_count": 51,
     "metadata": {},
     "output_type": "execute_result"
    }
   ],
   "source": [
    "doc_test[:10]"
   ],
   "metadata": {
    "collapsed": false,
    "ExecuteTime": {
     "end_time": "2023-12-10T21:59:28.670229Z",
     "start_time": "2023-12-10T21:59:28.602931200Z"
    }
   }
  },
  {
   "cell_type": "code",
   "execution_count": null,
   "outputs": [],
   "source": [],
   "metadata": {
    "collapsed": false
   }
  }
 ],
 "metadata": {
  "kernelspec": {
   "display_name": "Python 3 (ipykernel)",
   "language": "python",
   "name": "python3"
  },
  "language_info": {
   "codemirror_mode": {
    "name": "ipython",
    "version": 3
   },
   "file_extension": ".py",
   "mimetype": "text/x-python",
   "name": "python",
   "nbconvert_exporter": "python",
   "pygments_lexer": "ipython3",
   "version": "3.10.13"
  }
 },
 "nbformat": 4,
 "nbformat_minor": 4
}
